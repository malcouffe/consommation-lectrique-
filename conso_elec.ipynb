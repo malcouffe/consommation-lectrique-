{
 "cells": [
  {
   "cell_type": "code",
   "execution_count": 1,
   "metadata": {},
   "outputs": [],
   "source": [
    "import pandas as pd\n",
    "\n",
    "df = pd.read_csv('data/conso_meteo.csv')\n",
    "\n",
    "# Conversion de la colonne date et ajout d'un datetime complet avec heure si nécessaire\n",
    "df['datetime'] = pd.to_datetime(df['date']) + pd.to_timedelta(df['heure'], unit='h')"
   ]
  },
  {
   "cell_type": "code",
   "execution_count": null,
   "metadata": {},
   "outputs": [],
   "source": [
    "df.info()"
   ]
  },
  {
   "cell_type": "markdown",
   "metadata": {},
   "source": [
    "# Visualisation"
   ]
  },
  {
   "cell_type": "code",
   "execution_count": null,
   "metadata": {},
   "outputs": [],
   "source": [
    "import matplotlib.pyplot as plt\n",
    "import pandas as pd\n",
    "\n",
    "plt.figure(figsize=(15, 7))\n",
    "plt.plot(df['datetime'], df['LOAD'], label='LOAD', alpha=0.7)\n",
    "plt.plot(df['datetime'], df['LOAD'].rolling(window=168).mean(), label='Moyenne mobile (168h)', color='red')  # sur une semaine, par exemple\n",
    "plt.xlabel('Temps')\n",
    "plt.ylabel('LOAD')\n",
    "plt.title('Évolution de LOAD dans le temps')\n",
    "plt.legend()\n",
    "plt.show()\n"
   ]
  },
  {
   "cell_type": "code",
   "execution_count": null,
   "metadata": {},
   "outputs": [],
   "source": [
    "# Conversion de la colonne 'date' en datetime et ajout de la colonne 'heure'\n",
    "df['datetime'] = pd.to_datetime(df['date']) + pd.to_timedelta(df['heure'], unit='h')\n",
    "\n",
    "# Définir 'datetime' comme index\n",
    "df.set_index('datetime', inplace=True)\n",
    "\n",
    "# On s'assure que l'index est trié par date\n",
    "df = df.sort_index()\n",
    "\n",
    "# Choisir une date de départ (par exemple, la première date disponible)\n",
    "start_date = df.index.min()\n",
    "\n",
    "# Définir les fenêtres temporelles avec DateOffset\n",
    "one_month = start_date + pd.DateOffset(months=1)\n",
    "three_months = start_date + pd.DateOffset(months=3)\n",
    "six_months = start_date + pd.DateOffset(months=6)\n",
    "one_year = start_date + pd.DateOffset(years=1)\n",
    "\n",
    "# Filtrer les données pour chaque période\n",
    "df_1m = df.loc[start_date:one_month]\n",
    "df_3m = df.loc[start_date:three_months]\n",
    "df_6m = df.loc[start_date:six_months]\n",
    "df_1y = df.loc[start_date:one_year]\n",
    "\n",
    "# Créer une figure avec 4 subplots (2 lignes x 2 colonnes)\n",
    "fig, axs = plt.subplots(nrows=2, ncols=2, figsize=(15, 10))\n",
    "axs = axs.flatten()  # pour simplifier l'indexation\n",
    "\n",
    "# Subplot 1 : 1 mois\n",
    "axs[0].plot(df_1m.index, df_1m['LOAD'], color='blue')\n",
    "axs[0].set_title(\"LOAD sur 1 mois\")\n",
    "axs[0].set_xlabel(\"Date\")\n",
    "axs[0].set_ylabel(\"LOAD\")\n",
    "\n",
    "# Subplot 2 : 3 mois\n",
    "axs[1].plot(df_3m.index, df_3m['LOAD'], color='green')\n",
    "axs[1].set_title(\"LOAD sur 3 mois\")\n",
    "axs[1].set_xlabel(\"Date\")\n",
    "axs[1].set_ylabel(\"LOAD\")\n",
    "\n",
    "# Subplot 3 : 6 mois\n",
    "axs[2].plot(df_6m.index, df_6m['LOAD'], color='red')\n",
    "axs[2].set_title(\"LOAD sur 6 mois\")\n",
    "axs[2].set_xlabel(\"Date\")\n",
    "axs[2].set_ylabel(\"LOAD\")\n",
    "\n",
    "# Subplot 4 : 1 an\n",
    "axs[3].plot(df_1y.index, df_1y['LOAD'], color='purple')\n",
    "axs[3].set_title(\"LOAD sur 1 an\")\n",
    "axs[3].set_xlabel(\"Date\")\n",
    "axs[3].set_ylabel(\"LOAD\")\n",
    "\n",
    "fig.tight_layout()  # Ajuste l'espacement entre les subplots\n",
    "plt.show()"
   ]
  },
  {
   "cell_type": "code",
   "execution_count": null,
   "metadata": {},
   "outputs": [],
   "source": [
    "import seaborn as sns\n",
    "\n",
    "plt.figure(figsize=(15, 7))\n",
    "sns.boxplot(x='heure', y='LOAD', data=df)\n",
    "plt.xlabel('Heure de la journée')\n",
    "plt.ylabel('LOAD')\n",
    "plt.title('Distribution de LOAD selon l’heure')\n",
    "plt.show()\n"
   ]
  },
  {
   "cell_type": "code",
   "execution_count": null,
   "metadata": {},
   "outputs": [],
   "source": [
    "import numpy as np\n",
    "\n",
    "# Sélectionner les colonnes d'intérêt\n",
    "cols_interet = ['LOAD'] + [f'w{i}' for i in range(1, 26)]\n",
    "corr_matrix = df[cols_interet].corr()\n",
    "\n",
    "plt.figure(figsize=(14, 10))\n",
    "sns.heatmap(corr_matrix, annot=True, fmt=\".2f\", cmap='coolwarm', vmin=-1, vmax=1)\n",
    "plt.title('Matrice de corrélation entre LOAD et les variables explicatives')\n",
    "plt.show()\n"
   ]
  },
  {
   "cell_type": "code",
   "execution_count": null,
   "metadata": {},
   "outputs": [],
   "source": [
    "import matplotlib.pyplot as plt\n",
    "\n",
    "plt.figure(figsize=(15, 10))\n",
    "# Utilisation d'un colormap cyclique, ici \"twilight\"\n",
    "sc = plt.scatter(df['w1'], df['LOAD'], c=df['heure'], cmap='twilight', alpha=0.5)\n",
    "plt.xlabel('w1')\n",
    "plt.ylabel('LOAD')\n",
    "plt.title('Relation entre w1 et LOAD')\n",
    "plt.colorbar(sc, label='Heure')\n",
    "plt.show()\n"
   ]
  },
  {
   "cell_type": "code",
   "execution_count": null,
   "metadata": {},
   "outputs": [],
   "source": [
    "# Sélectionner toutes les colonnes dont le nom commence par \"w\"\n",
    "wi_columns = [col for col in df.columns if col.startswith('w')]\n",
    "\n",
    "plt.figure(figsize=(12, 6))\n",
    "df[wi_columns].boxplot()\n",
    "plt.title(\"Box Plot des colonnes wi\")\n",
    "plt.xticks(rotation=45)  # Pour une meilleure lisibilité des noms de colonnes\n",
    "plt.ylabel(\"Valeurs\")\n",
    "plt.show()\n"
   ]
  },
  {
   "cell_type": "code",
   "execution_count": null,
   "metadata": {},
   "outputs": [],
   "source": [
    "# Sélectionner toutes les colonnes dont le nom commence par \"w\"\n",
    "wi_columns = [col for col in df.columns if col.startswith('w')]\n",
    "\n",
    "# Créer un plot pour afficher l'évolution de toutes les colonnes wi dans le temps\n",
    "plt.figure(figsize=(15, 7))\n",
    "for col in wi_columns:\n",
    "    plt.plot(df.index, df[col], label=col, alpha=0.5)\n",
    "\n",
    "plt.title(\"Évolution des colonnes wi au cours du temps\")\n",
    "plt.xlabel(\"Temps\")\n",
    "plt.ylabel(\"Valeurs\")\n",
    "plt.legend(loc='upper left', fontsize='small')\n",
    "plt.grid(True)\n",
    "plt.show()"
   ]
  },
  {
   "cell_type": "code",
   "execution_count": null,
   "metadata": {},
   "outputs": [],
   "source": [
    "# Sélectionner toutes les colonnes dont le nom commence par 'w'\n",
    "wi_columns = [col for col in df.columns if col.startswith('w')]\n",
    "\n",
    "# Résumer les données par semaine (moyenne)\n",
    "df_resampled = df[wi_columns].resample('W').mean()\n",
    "\n",
    "plt.figure(figsize=(15, 7))\n",
    "for col in wi_columns:\n",
    "    plt.plot(df_resampled.index, df_resampled[col], label=col, alpha=0.7)\n",
    "\n",
    "plt.title(\"Évolution des colonnes wi au cours du temps (rééchantillonnage hebdomadaire)\")\n",
    "plt.xlabel(\"Temps\")\n",
    "plt.ylabel(\"Valeurs moyennes\")\n",
    "plt.legend(loc='upper left', fontsize='small')\n",
    "plt.grid(True)\n",
    "plt.show()"
   ]
  },
  {
   "cell_type": "code",
   "execution_count": null,
   "metadata": {},
   "outputs": [],
   "source": [
    "import pandas as pd\n",
    "import plotly.graph_objects as go\n",
    "\n",
    "# Ajouter une colonne \"year\" à partir de l'index datetime\n",
    "df['year'] = df.index.year\n",
    "\n",
    "# Obtenir la liste des années disponibles et la trier\n",
    "years = sorted(df['year'].unique())\n",
    "initial_year = years[0]  # Année affichée par défaut\n",
    "\n",
    "# Filtrer pour l'année initiale\n",
    "df_initial = df[df['year'] == initial_year]\n",
    "\n",
    "# Créer la figure et tracer la courbe pour l'année initiale\n",
    "fig = go.Figure()\n",
    "\n",
    "fig.add_trace(go.Scatter(\n",
    "    x=df_initial.index,\n",
    "    y=df_initial['LOAD'],\n",
    "    mode='lines',\n",
    "    name=str(initial_year)\n",
    "))\n",
    "\n",
    "# Créer les boutons pour le menu déroulant (sélection de l'année)\n",
    "year_buttons = []\n",
    "for year in years:\n",
    "    df_year = df[df['year'] == year]\n",
    "    year_buttons.append(dict(\n",
    "        label=str(year),\n",
    "        method=\"update\",\n",
    "        args=[{\"x\": [df_year.index], \"y\": [df_year['LOAD']]},\n",
    "              {\"title\": f\"Load pour l'année {year}\"}]\n",
    "    ))\n",
    "\n",
    "# Créer les boutons radio pour régler l'échelle de temps\n",
    "# Nous modifions ici la propriété xaxis.dtick qui définit l'intervalle entre les ticks (en millisecondes)\n",
    "time_scale_buttons = [\n",
    "    dict(\n",
    "        label=\"Quotidien\",\n",
    "        method=\"relayout\",\n",
    "        args=[{\"xaxis.dtick\": 86400000}]  # 1 jour = 86 400 000 ms\n",
    "    ),\n",
    "    dict(\n",
    "        label=\"Hebdomadaire\",\n",
    "        method=\"relayout\",\n",
    "        args=[{\"xaxis.dtick\": 604800000}]  # 7 jours = 604 800 000 ms\n",
    "    ),\n",
    "    dict(\n",
    "        label=\"Mensuel\",\n",
    "        method=\"relayout\",\n",
    "        args=[{\"xaxis.dtick\": 2592000000}]  # environ 30 jours = 2 592 000 000 ms\n",
    "    ),\n",
    "    dict(\n",
    "        label=\"Annuel\",\n",
    "        method=\"relayout\",\n",
    "        args=[{\"xaxis.dtick\": 31536000000}]  # 365 jours = 31 536 000 000 ms\n",
    "    )\n",
    "]\n",
    "\n",
    "# Mise à jour de la mise en page du graphique avec deux menus :\n",
    "fig.update_layout(\n",
    "    title=f\"Load pour l'année {initial_year}\",\n",
    "    xaxis_title=\"Date\",\n",
    "    yaxis_title=\"LOAD\",\n",
    "    template=\"plotly_white\",\n",
    "    width=1200,    # Largeur du graphique\n",
    "    height=800,    # Hauteur du graphique\n",
    "    updatemenus=[\n",
    "        # Menu déroulant pour sélectionner l'année\n",
    "        dict(\n",
    "            active=0,\n",
    "            buttons=year_buttons,\n",
    "            x=0.0,\n",
    "            xanchor=\"left\",\n",
    "            y=1.15,\n",
    "            yanchor=\"top\"\n",
    "        ),\n",
    "        # Boutons radio pour régler l'échelle temporelle\n",
    "        dict(\n",
    "            type=\"buttons\",\n",
    "            direction=\"right\",\n",
    "            showactive=True,\n",
    "            buttons=time_scale_buttons,\n",
    "            x=0.5,\n",
    "            xanchor=\"center\",\n",
    "            y=1.15,\n",
    "            yanchor=\"top\"\n",
    "        )\n",
    "    ]\n",
    ")\n",
    "\n",
    "fig.show()\n"
   ]
  },
  {
   "cell_type": "markdown",
   "metadata": {},
   "source": [
    "# Modélisation"
   ]
  },
  {
   "cell_type": "markdown",
   "metadata": {},
   "source": [
    "## Nombre de clusters optimal pour les Wi"
   ]
  },
  {
   "cell_type": "code",
   "execution_count": 2,
   "metadata": {},
   "outputs": [
    {
     "name": "stdout",
     "output_type": "stream",
     "text": [
      "(25, 60600)\n"
     ]
    }
   ],
   "source": [
    "wi_columns = [col for col in df.columns if col.startswith('w')]\n",
    "# Transposer la matrice afin que chaque ligne corresponde à un wi et chaque colonne à un instant\n",
    "df_w = df[wi_columns].transpose()\n",
    "df_w.index.name = 'wi'\n",
    "print(df_w.shape) "
   ]
  },
  {
   "cell_type": "code",
   "execution_count": 3,
   "metadata": {},
   "outputs": [],
   "source": [
    "from sklearn.preprocessing import StandardScaler\n",
    "import numpy as np\n",
    "\n",
    "# Standardisation ligne par ligne (chaque wi est considérée comme un échantillon)\n",
    "scaler = StandardScaler()\n",
    "data_scaled = scaler.fit_transform(df_w)"
   ]
  },
  {
   "cell_type": "code",
   "execution_count": 4,
   "metadata": {},
   "outputs": [
    {
     "data": {
      "image/png": "[encoded data removed]",
      "text/plain": [
       "<Figure size 800x500 with 1 Axes>"
      ]
     },
     "metadata": {},
     "output_type": "display_data"
    }
   ],
   "source": [
    "import numpy as np\n",
    "import matplotlib.pyplot as plt\n",
    "from sklearn.cluster import KMeans\n",
    "\n",
    "# Supposons que X est votre matrice de forme (nombre_de_wi, nombre_d'instants)\n",
    "# Exemple : X = data_scaled obtenu après transposition et standardisation\n",
    "\n",
    "sse = []  # somme des distances intra-clusters (inertie)\n",
    "k_range = range(1, 11)  # tester de 1 à 10 clusters\n",
    "\n",
    "for k in k_range:\n",
    "    kmeans = KMeans(n_clusters=k, random_state=42)\n",
    "    kmeans.fit(data_scaled)\n",
    "    sse.append(kmeans.inertia_)  # inertia_ est la somme des distances au carré dans chaque cluster\n",
    "\n",
    "plt.figure(figsize=(8, 5))\n",
    "plt.plot(k_range, sse, marker='o')\n",
    "plt.xlabel('Nombre de clusters')\n",
    "plt.ylabel(\"Inertie (SSE)\")\n",
    "plt.title(\"Méthode du coude pour choisir le nombre optimal de clusters\")\n",
    "plt.show()\n"
   ]
  },
  {
   "cell_type": "code",
   "execution_count": 5,
   "metadata": {},
   "outputs": [
    {
     "data": {
      "image/png": "[encoded data removed]",
      "text/plain": [
       "<Figure size 1000x600 with 1 Axes>"
      ]
     },
     "metadata": {},
     "output_type": "display_data"
    }
   ],
   "source": [
    "# Calcul de la matrice de corrélation entre les wi (lignes de data_scaled)\n",
    "corr_matrix = np.corrcoef(data_scaled)\n",
    "# Transformation en matrice de distance\n",
    "distance_matrix = 1 - np.abs(corr_matrix)\n",
    "\n",
    "# Forcer la symétrie en moyennant la matrice avec sa transposée\n",
    "distance_matrix = (distance_matrix + distance_matrix.T) / 2\n",
    "\n",
    "# S'assurer que la diagonale est nulle (ce qui est requis pour une matrice de distance)\n",
    "import numpy as np\n",
    "np.fill_diagonal(distance_matrix, 0)\n",
    "\n",
    "# Puis convertir en format condensé\n",
    "from scipy.spatial.distance import squareform\n",
    "condensed_distance = squareform(distance_matrix)\n",
    "\n",
    "\n",
    "from scipy.cluster.hierarchy import linkage, dendrogram, fcluster\n",
    "from scipy.spatial.distance import squareform\n",
    "import matplotlib.pyplot as plt\n",
    "\n",
    "# Transformation de la matrice de distance en format condensé requis par linkage\n",
    "condensed_distance = squareform(distance_matrix)\n",
    "\n",
    "# Application du clustering hiérarchique (méthode de Ward par exemple)\n",
    "Z = linkage(condensed_distance, method='ward')\n",
    "\n",
    "# Visualisation du dendrogramme\n",
    "plt.figure(figsize=(10, 6))\n",
    "dendrogram(Z, labels=wi_columns, leaf_rotation=90)\n",
    "plt.title(\"Dendrogramme des wi (profil temporel)\")\n",
    "plt.xlabel(\"wi\")\n",
    "plt.ylabel(\"Distance\")\n",
    "plt.show()\n"
   ]
  },
  {
   "cell_type": "code",
   "execution_count": null,
   "metadata": {},
   "outputs": [
    {
     "name": "stdout",
     "output_type": "stream",
     "text": [
      "Variables représentatives sélectionnées pour la modélisation : ['w1', 'w25', 'w17', 'w19']\n"
     ]
    }
   ],
   "source": [
    "# Choix d'un seuil pour le découpage du dendrogramme\n",
    "seuil = 1.1  # ajustez cette valeur en fonction du dendrogramme observé\n",
    "clusters = fcluster(Z, t=seuil, criterion='distance')\n",
    "\n",
    "# Affichage de l'affectation des clusters\n",
    "cluster_assignments = pd.DataFrame({'wi': wi_columns, 'cluster': clusters})\n",
    "\n",
    "# Liste pour stocker le représentant de chaque cluster\n",
    "selected_features = []\n",
    "\n",
    "# Parcourir chaque cluster unique\n",
    "for cl in cluster_assignments['cluster'].unique():\n",
    "    # Filtrer les wi appartenant au cluster cl\n",
    "    subset = cluster_assignments[cluster_assignments['cluster'] == cl]\n",
    "    \n",
    "    best_variable = None\n",
    "    best_corr = -np.inf  # initialisation pour trouver la corrélation absolue maximale\n",
    "    \n",
    "    # Parcourir les variables du cluster\n",
    "    for var in subset['wi']:\n",
    "        # Calculer la corrélation absolue de la variable var avec LOAD\n",
    "        corr = np.abs(df[var].corr(df['LOAD']))\n",
    "        if corr > best_corr:\n",
    "            best_corr = corr\n",
    "            best_variable = var\n",
    "    \n",
    "    # Ajout du représentant pour ce cluster\n",
    "    selected_features.append(best_variable)\n",
    "\n",
    "print(\"Variables représentatives sélectionnées pour la modélisation :\", selected_features)\n"
   ]
  },
  {
   "cell_type": "code",
   "execution_count": null,
   "metadata": {},
   "outputs": [
    {
     "name": "stdout",
     "output_type": "stream",
     "text": [
      "Variables représentatives (proches du centroïde) : ['w18', 'w25', 'w4', 'w24']\n"
     ]
    }
   ],
   "source": [
    "selected_features = []\n",
    "\n",
    "# Itérer sur chaque cluster unique\n",
    "for cl in cluster_assignments['cluster'].unique():\n",
    "    # Extraire la liste des wi appartenant au cluster cl\n",
    "    features_in_cluster = cluster_assignments[cluster_assignments['cluster'] == cl]['wi'].tolist()\n",
    "    \n",
    "    # Extraire le sous-ensemble des séries temporelles correspondantes\n",
    "    subset = df_w.loc[features_in_cluster]  # chaque ligne est la série temporelle d'un wi\n",
    "    \n",
    "    # Calculer le centroïde du cluster (moyenne de chaque colonne)\n",
    "    centroide = subset.mean(axis=0)\n",
    "    \n",
    "    # Calculer la distance Euclidienne de chaque wi par rapport au centroïde\n",
    "    # On peut utiliser une lambda pour appliquer la norme sur chaque ligne (axis=1)\n",
    "    distances = subset.apply(lambda row: np.linalg.norm(row - centroide), axis=1)\n",
    "    \n",
    "    # Identifier le wi avec la distance minimale\n",
    "    feature_centre = distances.idxmin()\n",
    "    selected_features.append(feature_centre)\n",
    "\n",
    "print(\"Variables représentatives (proches du centroïde) :\", selected_features)\n"
   ]
  },
  {
   "cell_type": "code",
   "execution_count": null,
   "metadata": {},
   "outputs": [
    {
     "name": "stderr",
     "output_type": "stream",
     "text": [
      "/opt/conda/lib/python3.12/site-packages/tslearn/bases/bases.py:15: UserWarning: h5py not installed, hdf5 features will not be supported.\n",
      "Install h5py to use hdf5 features: http://docs.h5py.org/\n",
      "  warn(h5py_msg)\n"
     ]
    }
   ],
   "source": [
    "import numpy as np\n",
    "import pandas as pd\n",
    "import matplotlib.pyplot as plt\n",
    "from tslearn.metrics import cdist_dtw\n",
    "from scipy.cluster.hierarchy import linkage, dendrogram, fcluster\n",
    "from scipy.spatial.distance import squareform\n",
    "\n",
    "# Supposons que df_w est votre DataFrame où chaque ligne correspond à un wi \n",
    "# et chaque colonne à une observation temporelle\n",
    "# Par exemple : df_w = df[wi_columns].transpose()\n",
    "\n",
    "# Conversion en matrice numpy\n",
    "X = df_w.values  # Shape: (nombre_de_wi, nombre_d_instants)\n",
    "\n",
    "# Calcul de la matrice de distances DTW entre chaque série temporelle\n",
    "# Attention : ce calcul peut être coûteux si vous avez beaucoup de séries\n",
    "distance_matrix = cdist_dtw(X)\n",
    "\n",
    "# Transformation en format condensé (format requis par linkage)\n",
    "condensed_distance = squareform(distance_matrix)\n",
    "\n",
    "# Application du clustering hiérarchique (par exemple, méthode \"average\")\n",
    "Z = linkage(condensed_distance, method='average')\n",
    "\n",
    "# Visualisation du dendrogramme\n",
    "plt.figure(figsize=(10, 6))\n",
    "dendrogram(Z, labels=df_w.index)\n",
    "plt.title(\"Dendrogramme avec distance DTW\")\n",
    "plt.xlabel(\"wi\")\n",
    "plt.ylabel(\"Distance DTW\")\n",
    "plt.show()\n",
    "\n",
    "# Choix du seuil pour découper le dendrogramme (par exemple, 1.1 ou à ajuster selon l'observation)\n",
    "seuil = 1.1\n",
    "clusters = fcluster(Z, t=seuil, criterion='distance')\n",
    "\n",
    "# Affichage de l'affectation des clusters\n",
    "cluster_assignments = pd.DataFrame({'wi': df_w.index, 'cluster': clusters})\n",
    "print(cluster_assignments)\n"
   ]
  },
  {
   "cell_type": "code",
   "execution_count": null,
   "metadata": {},
   "outputs": [],
   "source": []
  }
 ],
 "metadata": {
  "kernelspec": {
   "display_name": "base",
   "language": "python",
   "name": "python3"
  },
  "language_info": {
   "codemirror_mode": {
    "name": "ipython",
    "version": 3
   },
   "file_extension": ".py",
   "mimetype": "text/x-python",
   "name": "python",
   "nbconvert_exporter": "python",
   "pygments_lexer": "ipython3",
   "version": "3.12.9"
  }
 },
 "nbformat": 4,
 "nbformat_minor": 2
}
